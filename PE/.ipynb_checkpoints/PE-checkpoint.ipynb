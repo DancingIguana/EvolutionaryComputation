{
 "cells": [
  {
   "cell_type": "markdown",
   "id": "8c02d546-afe4-4289-bb44-17da24f7b53d",
   "metadata": {},
   "source": [
    "# Programación evolutiva aplicada a la función de Ackley\n",
    "\n",
    "## Problema\n",
    "Implementar un algoritmo basado en PE para resolver el siguiente problema:\n",
    "\n",
    "$$\n",
    "\\text{min }f(\\overrightarrow{x}) = - 20\\;exp\\left(-0.2\\sqrt{\\frac{1}{n}\\sum_{i = 1}^{n}x_i^2}\\right) - exp\\left(\\frac{1}{n}\\sum_{i = 1}^{n}cos(2\\pi x_i)\\right) + 20 + e\n",
    "$$\n",
    "\n",
    "La función $f$ es conocida como la **función de Ackley**, su dominio es $|x_i|\\leq 30$ y su mínimo global está en $x_i = 0$ y $f(\\overrightarrow{x} = 0.0$\n",
    "\n",
    "**Consideraciones**\n",
    "\n",
    "* Cuidar que las variables de decisión no se salgan del rango especificado en el problema. Si eso ocurre, deberá contar con un mecanismo que vuelva a generar el valor de la variable o que lo ajuste al rango deseado.\n",
    "\n",
    "La **entrada** al algoritmo será:\n",
    "1. La primera línea tendrá el número de variables que tendrá la función de Ackley\n",
    "2. La segunda línea tendrá el tamaño de la población y el número máximo de generaciones, separados por un espacio.\n",
    "3. La tercera línea tendrá el valor de los parámetris $\\alpha$ y $\\epsilon_0$, separados por un espacio.\n",
    "\n",
    "La **salida** del programa será:\n",
    "\n",
    "1. La mejor solución encontrada.\n",
    "2. El valor de la función objetivo para dicha solución.\n",
    "\n",
    "A continuación se muestra un ejemplo:\n",
    "\n",
    "**Entrada:**\n",
    "\n",
    "2\n",
    "\n",
    "100 200\n",
    "\n",
    "2.0 0.0001\n",
    "\n",
    "**Salida:**\n",
    "\n",
    "[7.48188924e − 08, −6.67209514e − 07]\n",
    "\n",
    "f(x) = 0.000\n",
    "\n",
    "Permitiar al usuario realizar $M$ ejecuciones del algoritmos de PE, implementado en el punto anterior, para resolver una instancia del problema de Ackley. Después de las $M$ ejecuciones se debe reportar lo siguiente:\n",
    "\n",
    "1. Mejor solución encontrada considerando las $M$ ejecuciones.\n",
    "2. Peor solución encontrada considerando las $M$ ejecuciones.\n",
    "3. Solución que corresponde a la mediana considerando las $M$ ejecuciones.\n",
    "4. Media del valor de la función objetivo considerando las $M$ ejecuciones.\n",
    "5. Desviación estándar del valor de la función objetivo considerando las $M$ ejecuciones.\n",
    "\n",
    "En los primeros tres puntos indica tanto el valor de $x$ como el valor de la función objetivo $f$ (función de Ackley). *Nota*: Se deben reportar los resultados del albgoritmo para las siguientes instancias: 5, 10 y 20 variables de decisión. Recuerde que puede variar los parámetros del algoritmo (tamaño de la población, número de generaciones, $\\alpha$ y $\\epsilon_0$). Indique los valores que se utilizaron para cada instancia del problema."
   ]
  },
  {
   "cell_type": "markdown",
   "id": "6bfd2bd1-74e9-4311-b873-8860b7a0a8dd",
   "metadata": {},
   "source": [
    "## Solución"
   ]
  },
  {
   "cell_type": "code",
   "execution_count": 1,
   "id": "f28a8d17-6fc8-402b-aff1-c3f01c3b688f",
   "metadata": {},
   "outputs": [],
   "source": [
    "import numpy as np"
   ]
  },
  {
   "cell_type": "markdown",
   "id": "cac2fc44-61a1-460e-92b5-4350cd872bbf",
   "metadata": {},
   "source": [
    "Comencemos por definir la función de Ackley cuyo parámetro a recibir es un arreglo de *numpy*."
   ]
  },
  {
   "cell_type": "code",
   "execution_count": 2,
   "id": "6d48cd08-9498-41d9-83e1-7f7b03ed21b7",
   "metadata": {},
   "outputs": [],
   "source": [
    "def f(x):\n",
    "    n = len(x)\n",
    "    a1 = -20 * np.exp(-0.2 * np.sqrt((1/n) * sum(x**2)))\n",
    "    a2 = -np.exp((1/n) * sum(np.cos(2*np.pi*x)))\n",
    "    return a1 + a2 + 20 + np.e"
   ]
  },
  {
   "cell_type": "markdown",
   "id": "3c53980e-9073-4d36-b1ba-c9777382033f",
   "metadata": {},
   "source": [
    "Ya que tenemos esto, declaremos una estructura/clase que corresponda a un individuo. En este caso tendremos tres componentes por individuo:\n",
    "* $\\overrightarrow{x}$\n",
    "* $\\overrightarrow{\\sigma}$\n",
    "* $f(\\overrightarrow{x})$"
   ]
  },
  {
   "cell_type": "code",
   "execution_count": 61,
   "id": "5b0032b4-a9b4-47a7-8d60-0db147564425",
   "metadata": {},
   "outputs": [],
   "source": [
    "class Individual():\n",
    "    def __init__(self, values = [], sigma = [], fVal = None):\n",
    "        self.values = values\n",
    "        self.sigma = sigma\n",
    "        self.fVal = fVal\n",
    "    \n",
    "    def __repr__(self):\n",
    "        return (f\"Values = {self.values}\\nSigma = {self.sigma}\\nF(x) = {self.fVal}\")\n",
    "    "
   ]
  },
  {
   "cell_type": "markdown",
   "id": "898a0871-ead0-4fba-80e4-a5ae75de87a5",
   "metadata": {},
   "source": [
    "Una vez que contamos con esta clase, podemos empezar a definir los métodos que ocupamos. Recordemos que en PE, iniciamos con una población inicial de padres. Ésta la podemos generar de manera aleatoria de tal manera que $\\overrightarrow{x}$ esté compuesto de valores uniformemente distribuidos entre 0 y 30; mientras que generemos $\\overrightarrow{\\sigma}$ con valores distribuidos de manera normal con media 0 y desviación estándar 1.\n",
    "\n",
    "Esto se hace en la siguiente función, que recibe el número de individuos a generar y el número de variables de cada uno."
   ]
  },
  {
   "cell_type": "code",
   "execution_count": 40,
   "id": "7c6f061e-2f61-44f3-930a-9bd00ee62110",
   "metadata": {},
   "outputs": [],
   "source": [
    "def initialPopulation(mu, n,): # mu = num. of individuals, n = num. of variables\n",
    "    population = []\n",
    "    \n",
    "    #Generate mu individuals with n variables\n",
    "    for i in range(mu):\n",
    "        i = Individual()\n",
    "        i.values = np.array([np.random.uniform(-30,30) for i in range(n)])\n",
    "        i.sigma = np.array([np.random.normal(0,1) for i in range(n)])\n",
    "        i.fVal = f(i.values)\n",
    "        population.append(i)\n",
    "        \n",
    "    return population"
   ]
  },
  {
   "cell_type": "markdown",
   "id": "5e00d9ee-3977-48d2-90c8-bd6929c23a62",
   "metadata": {},
   "source": [
    "Lo que sigue es tener un método de mutación de nuestra población. Cada miembro $i$ de la población genera un hijo $i'$ utilizando lo siguiente:\n",
    "\n",
    "$$\n",
    "\\sigma_j'=\\sigma_j\\cdot(1+\\alpha \\cdot N(0,1))\n",
    "$$\n",
    "\n",
    "$$\n",
    "x'_j = x_j + \\sigma'_j \\cdot N(0,1)\n",
    "$$\n",
    "\n",
    "Además, con este método, también debemos tener cuidado de no salirnos del rango $|x_i|\\leq 30$. Esto lo vamos a evitar convirtiendo en $30$ todos aquellos $x_j^{(i)} > 30$ y en $-30$ todos aquellos $x_j^{(i)} < -30$ que aparezcan al hacer la mutación.\n",
    "\n",
    "\n",
    "También, almacenaremos de una vez en cada hijo resultante el valor en $f(\\overrightarrow{x})$.\n",
    "\n",
    "Esto lo definimos en la siguiente celda:"
   ]
  },
  {
   "cell_type": "code",
   "execution_count": 120,
   "id": "34a12641-19ba-4332-95b9-d79829304c62",
   "metadata": {},
   "outputs": [],
   "source": [
    "def generateChildren(parents,e0,alpha):\n",
    "    children = []\n",
    "    \n",
    "    for ind in parents:\n",
    "        sigmap = [sj * (1+alpha*np.random.normal(0,1)) for sj in ind.sigma]\n",
    "        \n",
    "        for sigma_j in ind.sigma:\n",
    "            aux = (sigma_j * (1 + alpha * np.random.normal(0,1)))\n",
    "            if(abs(aux) < e0):\n",
    "                sigmap.append(e0)\n",
    "            else:\n",
    "                sigmap.append(aux)\n",
    "        #sigmap = np.array([max(e0, abs(sigma_j * (1 + alpha * np.random.normal(0,1)))) for sigma_j in ind.sigma])\n",
    "        #print(sigmap)\n",
    "        xp = np.array([xj + sigmapj*np.random.normal(0,1) for xj,sigmapj in zip(ind.values,sigmap)])\n",
    "        xp = np.array([30 if xpi > 30 else -30 if xpi < -30 else xpi for xpi in xp])\n",
    "        \n",
    "        child = Individual(values = xp, sigma = sigmap, fVal = f(xp))\n",
    "        \n",
    "        children.append(child)\n",
    "        \n",
    "        \n",
    "    return children\n",
    "        "
   ]
  },
  {
   "cell_type": "markdown",
   "id": "d1370d8f-30f7-40d0-be4f-9c0da4b4066d",
   "metadata": {},
   "source": [
    "Con estas dos funciones base, podemos implementar el algoritmo de PE. Primero generamos una población inicial de $\\mu$ individuos con $n$ variables cada uno. Luego generamos los hijos de esta población por medio de una mutación para generar otros $\\mu$ individuos. A partir de la unión entre los padres y los hijos nos quedamos únicamente con las mejores $\\mu$ soluciones con base en su valor de $f$ y este nuevo conjunto es usado en la siguiente generación para producir más hijos y así sucesivamente. Esto se repite un total de $G$ generaciones.\n",
    "\n",
    "Al final regresamos la mejor solución de todas las que hay en la última generación, tanto $\\overrightarrow{x}$ como $f(\\overrightarrow{x})$.\n",
    "\n",
    "Definiéndolo tenemos:"
   ]
  },
  {
   "cell_type": "code",
   "execution_count": 96,
   "id": "fd399755-ffd8-4221-b7c6-83c51cfc0b3f",
   "metadata": {},
   "outputs": [],
   "source": [
    "\"\"\"\n",
    "n = núm. variables\n",
    "mu = tamaño poblacion\n",
    "G = num. generaciones\n",
    "e0 = menor sd permitida\n",
    "alpha = param. mutacion\n",
    "\"\"\"\n",
    "\n",
    "def PE(n, mu, G, e0, alpha): #\n",
    "    parents = initialPopulation(mu,n)\n",
    "    for i in range(G):\n",
    "        children = generateChildren(parents, e0, alpha)\n",
    "        \n",
    "        parents += children\n",
    "        parents.sort(key = lambda x : x.fVal)\n",
    "        parents = parents[:mu]\n",
    "\n",
    "    return parents[0].values, parents[0].fVal"
   ]
  },
  {
   "cell_type": "markdown",
   "id": "e648199f-499d-422e-a1fe-177e151ecb61",
   "metadata": {},
   "source": [
    "Ya tenemos todo lo necesario para ejecutar el algoritmo de PE. Como ejemplo, usemos el mismo que viene en el ejemplo de entrada y salida"
   ]
  },
  {
   "cell_type": "code",
   "execution_count": 112,
   "id": "de3f40d0-0518-4bbc-9e54-78ec68f26395",
   "metadata": {},
   "outputs": [],
   "source": [
    "n = 2\n",
    "mu, G = 100, 200\n",
    "alpha, e0 = 2.0, 0.0001"
   ]
  },
  {
   "cell_type": "code",
   "execution_count": 119,
   "id": "45523db2-4e8e-4bef-a644-07b2a04bbfe4",
   "metadata": {
    "tags": []
   },
   "outputs": [
    {
     "name": "stdout",
     "output_type": "stream",
     "text": [
      "[0.00290485 0.0013758 ] \n",
      "f(x) = 0.009366168957953835\n"
     ]
    }
   ],
   "source": [
    "x,fx = PE(n,mu,G,alpha,e0)\n",
    "\n",
    "print(x,\"\\nf(x) =\",fx)"
   ]
  },
  {
   "cell_type": "code",
   "execution_count": 67,
   "id": "32ba5c75-c458-4d14-b4e0-2ea93a6f9841",
   "metadata": {},
   "outputs": [],
   "source": [
    "y = []\n",
    "for i in range(100):\n",
    "    x, yi = EE(2,100,200,2,0.0001)\n",
    "    y.append(yi)"
   ]
  },
  {
   "cell_type": "code",
   "execution_count": 58,
   "id": "16399c8b-7bec-4818-8c72-753c5b06395c",
   "metadata": {},
   "outputs": [],
   "source": [
    "import matplotlib.pyplot as plt"
   ]
  },
  {
   "cell_type": "code",
   "execution_count": 59,
   "id": "10f8af7f-f1ae-4c26-96e5-9a5e67962f78",
   "metadata": {},
   "outputs": [
    {
     "data": {
      "text/plain": [
       "(array([13., 13., 18., 16., 14., 10.,  5.,  6.,  3.,  2.]),\n",
       " array([0.00719472, 0.02149409, 0.03579347, 0.05009284, 0.06439222,\n",
       "        0.07869159, 0.09299097, 0.10729034, 0.12158971, 0.13588909,\n",
       "        0.15018846]),\n",
       " <BarContainer object of 10 artists>)"
      ]
     },
     "execution_count": 69,
     "metadata": {},
     "output_type": "execute_result"
    },
    {
     "data": {
      "image/png": "[encoded data removed]",
      "text/plain": [
       "<Figure size 432x288 with 1 Axes>"
      ]
     },
     "metadata": {
      "needs_background": "light"
     },
     "output_type": "display_data"
    }
   ],
   "source": [
    "plt.hist(y,bins = 10)"
   ]
  },
  {
   "cell_type": "code",
   "execution_count": 60,
   "id": "0b3ab867-3b65-4c7c-8d1b-371464243567",
   "metadata": {},
   "outputs": [
    {
     "data": {
      "text/plain": [
       "[0.16420665263477163,\n",
       " 0.15943299090449914,\n",
       " 0.15438528016516218,\n",
       " 0.14839880184972687,\n",
       " 0.14823080545602751,\n",
       " 0.13933380976247323,\n",
       " 0.13195853972745697,\n",
       " 0.13173086618037688,\n",
       " 0.1312342945244649,\n",
       " 0.12502733512319297,\n",
       " 0.12256420033871196,\n",
       " 0.11404583545515523,\n",
       " 0.11251325161273273,\n",
       " 0.1122701411849687,\n",
       " 0.10986036951608869,\n",
       " 0.109432044097304,\n",
       " 0.10272473805047655,\n",
       " 0.09927972347369307,\n",
       " 0.09876803333336825,\n",
       " 0.09776578754458898,\n",
       " 0.09518608275768203,\n",
       " 0.09469559769447544,\n",
       " 0.09296612166490492,\n",
       " 0.0918503526045531,\n",
       " 0.08910123517542035,\n",
       " 0.08881864908901393,\n",
       " 0.08763433225972195,\n",
       " 0.08266546304868472,\n",
       " 0.0778179331482538,\n",
       " 0.07763411408043597,\n",
       " 0.07646888120957174,\n",
       " 0.07624420621523287,\n",
       " 0.07562909282417651,\n",
       " 0.07488040073773705,\n",
       " 0.0705331960635367,\n",
       " 0.07004334640748455,\n",
       " 0.06799468835882694,\n",
       " 0.06795199943340835,\n",
       " 0.06700407939757413,\n",
       " 0.0664178282673551,\n",
       " 0.0650608175453482,\n",
       " 0.06407622303856231,\n",
       " 0.06406624384854398,\n",
       " 0.06266480698022692,\n",
       " 0.0617694044675976,\n",
       " 0.06124960978278482,\n",
       " 0.061144940701983064,\n",
       " 0.059527934489608914,\n",
       " 0.057705984785475284,\n",
       " 0.057422921104997915,\n",
       " 0.05681566502215718,\n",
       " 0.05622644556046241,\n",
       " 0.05448222832028593,\n",
       " 0.05394629205816104,\n",
       " 0.053034364985255156,\n",
       " 0.05285108860461962,\n",
       " 0.052353144296234166,\n",
       " 0.05230799743812087,\n",
       " 0.049898938886294264,\n",
       " 0.04987442738933057,\n",
       " 0.048376390820302095,\n",
       " 0.047713366645862454,\n",
       " 0.04732870801086664,\n",
       " 0.04644634698166117,\n",
       " 0.0461278288259348,\n",
       " 0.044746296937280494,\n",
       " 0.04288617291040042,\n",
       " 0.04130397989289536,\n",
       " 0.04118515794837707,\n",
       " 0.039585202268654474,\n",
       " 0.037380669383946685,\n",
       " 0.0368703892063178,\n",
       " 0.03569135820340508,\n",
       " 0.03488492441746205,\n",
       " 0.0347956857482008,\n",
       " 0.03371336251595425,\n",
       " 0.03361738220935395,\n",
       " 0.03338390061025409,\n",
       " 0.03304255346968121,\n",
       " 0.03237797566035683,\n",
       " 0.032369936872232774,\n",
       " 0.03149587111665442,\n",
       " 0.0299785783086155,\n",
       " 0.028239923404019596,\n",
       " 0.027766855653525102,\n",
       " 0.02759779868545964,\n",
       " 0.027172908293028986,\n",
       " 0.02360851609700676,\n",
       " 0.02237748987788324,\n",
       " 0.021205884988092283,\n",
       " 0.018769617998757315,\n",
       " 0.017544529899890637,\n",
       " 0.017127133569740938,\n",
       " 0.015993642688048926,\n",
       " 0.015743458734736482,\n",
       " 0.012184679368833162,\n",
       " 0.010533099230280119,\n",
       " 0.0064125660075444735,\n",
       " 0.004331159912617455,\n",
       " 0.003927814555020337]"
      ]
     },
     "execution_count": 60,
     "metadata": {},
     "output_type": "execute_result"
    }
   ],
   "source": [
    "sorted(y, reverse = True)"
   ]
  },
  {
   "cell_type": "code",
   "execution_count": null,
   "id": "7b1fa6dc-589e-4d8c-9e79-7b0ecfddd93c",
   "metadata": {},
   "outputs": [],
   "source": []
  }
 ],
 "metadata": {
  "kernelspec": {
   "display_name": "Python 3 (ipykernel)",
   "language": "python",
   "name": "python3"
  },
  "language_info": {
   "codemirror_mode": {
    "name": "ipython",
    "version": 3
   },
   "file_extension": ".py",
   "mimetype": "text/x-python",
   "name": "python",
   "nbconvert_exporter": "python",
   "pygments_lexer": "ipython3",
   "version": "3.8.8"
  }
 },
 "nbformat": 4,
 "nbformat_minor": 5
}
