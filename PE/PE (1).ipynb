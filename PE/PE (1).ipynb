{
  "cells": [
    {
      "cell_type": "markdown",
      "id": "8c02d546-afe4-4289-bb44-17da24f7b53d",
      "metadata": {
        "id": "8c02d546-afe4-4289-bb44-17da24f7b53d"
      },
      "source": [
        "# Programación evolutiva aplicada a la función de Ackley\n",
        "\n",
        "## Problema\n",
        "Implementar un algoritmo basado en PE para resolver el siguiente problema:\n",
        "\n",
        "$$\n",
        "\\text{min }f(\\overrightarrow{x}) = - 20\\;exp\\left(-0.2\\sqrt{\\frac{1}{n}\\sum_{i = 1}^{n}x_i^2}\\right) - exp\\left(\\frac{1}{n}\\sum_{i = 1}^{n}cos(2\\pi x_i)\\right) + 20 + e\n",
        "$$\n",
        "\n",
        "La función $f$ es conocida como la **función de Ackley**, su dominio es $|x_i|\\leq 30$ y su mínimo global está en $x_i = 0$ y $f(\\overrightarrow{x} = 0.0$\n",
        "\n",
        "**Consideraciones**\n",
        "\n",
        "* Cuidar que las variables de decisión no se salgan del rango especificado en el problema. Si eso ocurre, deberá contar con un mecanismo que vuelva a generar el valor de la variable o que lo ajuste al rango deseado.\n",
        "\n",
        "La **entrada** al algoritmo será:\n",
        "1. La primera línea tendrá el número de variables que tendrá la función de Ackley\n",
        "2. La segunda línea tendrá el tamaño de la población y el número máximo de generaciones, separados por un espacio.\n",
        "3. La tercera línea tendrá el valor de los parámetris $\\alpha$ y $\\epsilon_0$, separados por un espacio.\n",
        "\n",
        "La **salida** del programa será:\n",
        "\n",
        "1. La mejor solución encontrada.\n",
        "2. El valor de la función objetivo para dicha solución.\n",
        "\n",
        "A continuación se muestra un ejemplo:\n",
        "\n",
        "**Entrada:**\n",
        "\n",
        "2\n",
        "\n",
        "100 200\n",
        "\n",
        "2.0 0.0001\n",
        "\n",
        "**Salida:**\n",
        "\n",
        "[7.48188924e − 08, −6.67209514e − 07]\n",
        "\n",
        "f(x) = 0.000\n",
        "\n",
        "Permitiar al usuario realizar $M$ ejecuciones del algoritmos de PE, implementado en el punto anterior, para resolver una instancia del problema de Ackley. Después de las $M$ ejecuciones se debe reportar lo siguiente:\n",
        "\n",
        "1. Mejor solución encontrada considerando las $M$ ejecuciones.\n",
        "2. Peor solución encontrada considerando las $M$ ejecuciones.\n",
        "3. Solución que corresponde a la mediana considerando las $M$ ejecuciones.\n",
        "4. Media del valor de la función objetivo considerando las $M$ ejecuciones.\n",
        "5. Desviación estándar del valor de la función objetivo considerando las $M$ ejecuciones.\n",
        "\n",
        "En los primeros tres puntos indica tanto el valor de $x$ como el valor de la función objetivo $f$ (función de Ackley). *Nota*: Se deben reportar los resultados del algoritmo para las siguientes instancias: 5, 10 y 20 variables de decisión. Recuerde que puede variar los parámetros del algoritmo (tamaño de la población, número de generaciones, $\\alpha$ y $\\epsilon_0$). Indique los valores que se utilizaron para cada instancia del problema."
      ]
    },
    {
      "cell_type": "markdown",
      "id": "6bfd2bd1-74e9-4311-b873-8860b7a0a8dd",
      "metadata": {
        "id": "6bfd2bd1-74e9-4311-b873-8860b7a0a8dd"
      },
      "source": [
        "## Solución"
      ]
    },
    {
      "cell_type": "code",
      "execution_count": 30,
      "id": "f28a8d17-6fc8-402b-aff1-c3f01c3b688f",
      "metadata": {
        "id": "f28a8d17-6fc8-402b-aff1-c3f01c3b688f"
      },
      "outputs": [],
      "source": [
        "import numpy as np"
      ]
    },
    {
      "cell_type": "markdown",
      "id": "cac2fc44-61a1-460e-92b5-4350cd872bbf",
      "metadata": {
        "id": "cac2fc44-61a1-460e-92b5-4350cd872bbf"
      },
      "source": [
        "Comencemos por definir la función de Ackley cuyo parámetro a recibir es un arreglo de *numpy*."
      ]
    },
    {
      "cell_type": "code",
      "execution_count": 31,
      "id": "6d48cd08-9498-41d9-83e1-7f7b03ed21b7",
      "metadata": {
        "id": "6d48cd08-9498-41d9-83e1-7f7b03ed21b7"
      },
      "outputs": [],
      "source": [
        "def f(x):\n",
        "    n = len(x)\n",
        "    a1 = -20 * np.exp(-0.2 * np.sqrt((1/n) * sum(x**2)))\n",
        "    a2 = -np.exp((1/n) * sum(np.cos(2*np.pi*x)))\n",
        "    return a1 + a2 + 20 + np.e"
      ]
    },
    {
      "cell_type": "markdown",
      "id": "3c53980e-9073-4d36-b1ba-c9777382033f",
      "metadata": {
        "id": "3c53980e-9073-4d36-b1ba-c9777382033f"
      },
      "source": [
        "Ya que tenemos esto, declaremos una estructura/clase que corresponda a un individuo. En este caso tendremos tres componentes por individuo:\n",
        "* $\\overrightarrow{x}$\n",
        "* $\\overrightarrow{\\sigma}$\n",
        "* $f(\\overrightarrow{x})$"
      ]
    },
    {
      "cell_type": "code",
      "execution_count": 32,
      "id": "5b0032b4-a9b4-47a7-8d60-0db147564425",
      "metadata": {
        "id": "5b0032b4-a9b4-47a7-8d60-0db147564425"
      },
      "outputs": [],
      "source": [
        "class Individual():\n",
        "    def __init__(self, values = [], sigma = [], fVal = None):\n",
        "        self.values = values\n",
        "        self.sigma = sigma\n",
        "        self.fVal = fVal\n",
        "    \n",
        "    def __repr__(self):\n",
        "        return (f\"Values = {self.values}\\nSigma = {self.sigma}\\nF(x) = {self.fVal}\")\n",
        "    "
      ]
    },
    {
      "cell_type": "markdown",
      "id": "898a0871-ead0-4fba-80e4-a5ae75de87a5",
      "metadata": {
        "id": "898a0871-ead0-4fba-80e4-a5ae75de87a5"
      },
      "source": [
        "Una vez que contamos con esta clase, podemos empezar a definir los métodos que ocupamos. Recordemos que en PE, iniciamos con una población inicial de padres. Ésta la podemos generar de manera aleatoria de tal manera que $\\overrightarrow{x}$ esté compuesto de valores uniformemente distribuidos entre 0 y 30; mientras que generemos $\\overrightarrow{\\sigma}$ con valores distribuidos de manera normal con media 0 y desviación estándar 1.\n",
        "\n",
        "Esto se hace en la siguiente función, que recibe el número de individuos a generar y el número de variables de cada uno."
      ]
    },
    {
      "cell_type": "code",
      "execution_count": 33,
      "id": "7c6f061e-2f61-44f3-930a-9bd00ee62110",
      "metadata": {
        "id": "7c6f061e-2f61-44f3-930a-9bd00ee62110"
      },
      "outputs": [],
      "source": [
        "def initialPopulation(mu, n,): # mu = num. of individuals, n = num. of variables\n",
        "    population = []\n",
        "    \n",
        "    #Generate mu individuals with n variables\n",
        "    for i in range(mu):\n",
        "        i = Individual()\n",
        "        i.values = np.array([np.random.uniform(-30,30) for i in range(n)])\n",
        "        i.sigma = np.array([np.random.normal(0,1) for i in range(n)])\n",
        "        i.fVal = f(i.values)\n",
        "        population.append(i)\n",
        "        \n",
        "    return population"
      ]
    },
    {
      "cell_type": "markdown",
      "id": "5e00d9ee-3977-48d2-90c8-bd6929c23a62",
      "metadata": {
        "id": "5e00d9ee-3977-48d2-90c8-bd6929c23a62"
      },
      "source": [
        "Lo que sigue es tener un método de mutación de nuestra población. Cada miembro $i$ de la población genera un hijo $i'$ utilizando lo siguiente:\n",
        "\n",
        "$$\n",
        "\\sigma_j'=\\sigma_j\\cdot(1+\\alpha \\cdot N(0,1))\n",
        "$$\n",
        "\n",
        "$$\n",
        "x'_j = x_j + \\sigma'_j \\cdot N(0,1)\n",
        "$$\n",
        "\n",
        "Además, con este método, también debemos tener cuidado de no salirnos del rango $|x_i|\\leq 30$. Esto lo vamos a evitar convirtiendo en $30$ todos aquellos $x_j^{(i)} > 30$ y en $-30$ todos aquellos $x_j^{(i)} < -30$ que aparezcan al hacer la mutación.\n",
        "\n",
        "\n",
        "También, almacenaremos de una vez en cada hijo resultante el valor en $f(\\overrightarrow{x})$.\n",
        "\n",
        "Esto lo definimos en la siguiente celda:"
      ]
    },
    {
      "cell_type": "code",
      "execution_count": 34,
      "id": "34a12641-19ba-4332-95b9-d79829304c62",
      "metadata": {
        "id": "34a12641-19ba-4332-95b9-d79829304c62"
      },
      "outputs": [],
      "source": [
        "def generateChildren(parents,e0,alpha):\n",
        "    children = []\n",
        "    \n",
        "    for ind in parents:\n",
        "        sigmap = [sj * (1+alpha*np.random.normal(0,1)) for sj in ind.sigma]\n",
        "        sigmap = [e0 if abs(sj) < e0 else sj for sj in sigmap]\n",
        "        \n",
        "        xp = np.array([xj + sigmapj*np.random.normal(0,1) for xj,sigmapj in zip(ind.values,sigmap)])\n",
        "        xp = np.array([30 if xpi > 30 else -30 if xpi < -30 else xpi for xpi in xp])\n",
        "        \n",
        "        child = Individual(values = xp, sigma = sigmap, fVal = f(xp))\n",
        "        \n",
        "        children.append(child)\n",
        "        \n",
        "        \n",
        "    return children\n",
        "        "
      ]
    },
    {
      "cell_type": "markdown",
      "id": "d1370d8f-30f7-40d0-be4f-9c0da4b4066d",
      "metadata": {
        "id": "d1370d8f-30f7-40d0-be4f-9c0da4b4066d"
      },
      "source": [
        "Con estas dos funciones base, podemos implementar el algoritmo de PE. Primero generamos una población inicial de $\\mu$ individuos con $n$ variables cada uno. Luego generamos los hijos de esta población por medio de una mutación para generar otros $\\mu$ individuos. A partir de la unión entre los padres y los hijos nos quedamos únicamente con las mejores $\\mu$ soluciones con base en su valor de $f$ y este nuevo conjunto es usado en la siguiente generación para producir más hijos y así sucesivamente. Esto se repite un total de $G$ generaciones.\n",
        "\n",
        "Al final regresamos la mejor solución de todas las que hay en la última generación, tanto $\\overrightarrow{x}$ como $f(\\overrightarrow{x})$.\n",
        "\n",
        "Definiéndolo tenemos:"
      ]
    },
    {
      "cell_type": "code",
      "execution_count": 35,
      "id": "fd399755-ffd8-4221-b7c6-83c51cfc0b3f",
      "metadata": {
        "id": "fd399755-ffd8-4221-b7c6-83c51cfc0b3f"
      },
      "outputs": [],
      "source": [
        "\"\"\"\n",
        "n = núm. variables\n",
        "mu = tamaño poblacion\n",
        "G = num. generaciones\n",
        "e0 = menor sd permitida\n",
        "alpha = param. mutacion\n",
        "\"\"\"\n",
        "\n",
        "def PE(n, mu, G, alpha, e0): #\n",
        "    parents = initialPopulation(mu,n)\n",
        "    for i in range(G):\n",
        "        children = generateChildren(parents, e0, alpha)\n",
        "        \n",
        "        parents += children\n",
        "        parents.sort(key = lambda x : x.fVal)\n",
        "        parents = parents[:mu]\n",
        "\n",
        "    return parents[0].values, parents[0].fVal"
      ]
    },
    {
      "cell_type": "markdown",
      "id": "e648199f-499d-422e-a1fe-177e151ecb61",
      "metadata": {
        "id": "e648199f-499d-422e-a1fe-177e151ecb61"
      },
      "source": [
        "Ya tenemos todo lo necesario para ejecutar el algoritmo de PE. Como ejemplo, usemos el mismo que viene en el ejemplo de entrada y salida. Para leer los datos de un archivo de texto con datos como el del ejemplo usemos la siguiente función."
      ]
    },
    {
      "cell_type": "code",
      "source": [
        "def readInput(fileName):\n",
        "  with open(fileName) as f:\n",
        "      lines = f.readlines()\n",
        "      n = int(lines[0])\n",
        "      mu, G = map(int, lines[1].split(\" \"))\n",
        "      alpha, e0 = map(float, lines[2].split())\n",
        "    \n",
        "  return n, mu, G, alpha, e0"
      ],
      "metadata": {
        "id": "9ClIv0BzF9CI"
      },
      "id": "9ClIv0BzF9CI",
      "execution_count": 36,
      "outputs": []
    },
    {
      "cell_type": "code",
      "source": [
        "n,mu,G,alpha,e0 = readInput(\"data.txt\")"
      ],
      "metadata": {
        "id": "fwJiJx3wGJXe"
      },
      "id": "fwJiJx3wGJXe",
      "execution_count": 38,
      "outputs": []
    },
    {
      "cell_type": "markdown",
      "source": [
        "Dándonos los siguientes resultados"
      ],
      "metadata": {
        "id": "J1Rx_YEjGrrq"
      },
      "id": "J1Rx_YEjGrrq"
    },
    {
      "cell_type": "code",
      "execution_count": 41,
      "id": "45523db2-4e8e-4bef-a644-07b2a04bbfe4",
      "metadata": {
        "tags": [],
        "colab": {
          "base_uri": "https://localhost:8080/"
        },
        "id": "45523db2-4e8e-4bef-a644-07b2a04bbfe4",
        "outputId": "7b186e8f-515a-4c66-d894-ab821dcdf150"
      },
      "outputs": [
        {
          "output_type": "stream",
          "name": "stdout",
          "text": [
            "[-4.06933345e-07  1.07690512e-06] \n",
            "f(x) = 3.2561917717721656e-06\n"
          ]
        }
      ],
      "source": [
        "x,fx = PE(n,mu,G,alpha,e0)\n",
        "\n",
        "print(x,\"\\nf(x) =\",fx)"
      ]
    },
    {
      "cell_type": "markdown",
      "source": [
        "Ya que hicimos una prueba inicial del algoritmo, podemos ver cómo la solución del mínimo de la función de Ackley sí se aproximam mucho al resultado que buscamos ($f(x) = 0$) cuando trabajamos con dos variables.\n",
        "\n",
        "Lo que sigue es probar esto para $n = 2,5,10,20$. En este caso vamos a intentar usar $\\alpha = 0.2$, ya que es de los recomendados. Vamos a usar una población inicial de $\\mu = 300$ y además generaremos $G = 600$ generaciones. El valor de $\\epsilon_0$ lo mantendremos como 0.0001\n"
      ],
      "metadata": {
        "id": "ybWYrvFeGuSl"
      },
      "id": "ybWYrvFeGuSl"
    },
    {
      "cell_type": "code",
      "source": [
        "mu = 300\n",
        "G = 600\n",
        "alpha = 0.2\n",
        "epsilon = 0.0001"
      ],
      "metadata": {
        "id": "-2-efkslML1a"
      },
      "id": "-2-efkslML1a",
      "execution_count": 54,
      "outputs": []
    },
    {
      "cell_type": "markdown",
      "source": [
        "Esto lo haremos para $n = 2,5,10,20$, que son los valores que pide el problema.\n",
        "\n",
        "#### Caso $n = 2$"
      ],
      "metadata": {
        "id": "9eW4d512MBx6"
      },
      "id": "9eW4d512MBx6"
    },
    {
      "cell_type": "code",
      "source": [
        "x,fx = PE(2,mu,G,alpha,epsilon)\n",
        "print(x)\n",
        "print(f\"f(x) = {fx}\")"
      ],
      "metadata": {
        "colab": {
          "base_uri": "https://localhost:8080/"
        },
        "id": "etsqPSNIKn9Z",
        "outputId": "bbf17948-ac18-45ec-9e2f-7d77c218c849"
      },
      "id": "etsqPSNIKn9Z",
      "execution_count": 56,
      "outputs": [
        {
          "output_type": "stream",
          "name": "stdout",
          "text": [
            "[-7.90390593e-08  4.60859678e-08]\n",
            "f(x) = 2.5878336318285733e-07\n"
          ]
        }
      ]
    },
    {
      "cell_type": "markdown",
      "source": [
        "#### Caso $n = 5$"
      ],
      "metadata": {
        "id": "s7mwY0_3Mwlh"
      },
      "id": "s7mwY0_3Mwlh"
    },
    {
      "cell_type": "code",
      "source": [
        "x,fx = PE(5,mu,G,alpha,epsilon)\n",
        "print(x)\n",
        "print(f\"f(x) = {fx}\")"
      ],
      "metadata": {
        "colab": {
          "base_uri": "https://localhost:8080/"
        },
        "id": "819qFfUfMeus",
        "outputId": "4f6c5856-33ae-4987-c6ff-423b70ad050b"
      },
      "id": "819qFfUfMeus",
      "execution_count": 57,
      "outputs": [
        {
          "output_type": "stream",
          "name": "stdout",
          "text": [
            "[-1.68883913e-06 -1.75779131e-05 -2.72103055e-06  9.66393614e-06\n",
            "  1.30798265e-05]\n",
            "f(x) = 4.3225203413488344e-05\n"
          ]
        }
      ]
    },
    {
      "cell_type": "markdown",
      "source": [
        "#### Caso $n = 10$"
      ],
      "metadata": {
        "id": "iYPuLGVGM7bz"
      },
      "id": "iYPuLGVGM7bz"
    },
    {
      "cell_type": "code",
      "source": [
        "x,fx = PE(10,mu,G,alpha,epsilon)\n",
        "print(x)\n",
        "print(f\"f(x) = {fx}\")"
      ],
      "metadata": {
        "colab": {
          "base_uri": "https://localhost:8080/"
        },
        "id": "PuNfbaSmM5f8",
        "outputId": "c5fc1461-c60d-4ee7-d28d-e4e937ca3992"
      },
      "id": "PuNfbaSmM5f8",
      "execution_count": 59,
      "outputs": [
        {
          "output_type": "stream",
          "name": "stdout",
          "text": [
            "[-8.36991897e-06 -3.63011890e-05 -7.89410927e-05  3.87718539e-05\n",
            " -3.15641227e-05  7.82286298e-06 -2.99781642e-05 -4.77074664e-05\n",
            " -1.11645132e-05  6.96748595e-06]\n",
            "f(x) = 0.00014719463790813236\n"
          ]
        }
      ]
    },
    {
      "cell_type": "markdown",
      "source": [
        "#### Caso $n = 20$"
      ],
      "metadata": {
        "id": "8kDi4gQ3OyyO"
      },
      "id": "8kDi4gQ3OyyO"
    },
    {
      "cell_type": "code",
      "source": [
        "x,fx = PE(20,mu,G,alpha,epsilon)\n",
        "print(x)\n",
        "print(f\"f(x) = {fx}\")"
      ],
      "metadata": {
        "colab": {
          "base_uri": "https://localhost:8080/"
        },
        "id": "_0gVjjYYNAUP",
        "outputId": "e9d9561e-4feb-4973-f9b1-620507e06877"
      },
      "id": "_0gVjjYYNAUP",
      "execution_count": 60,
      "outputs": [
        {
          "output_type": "stream",
          "name": "stdout",
          "text": [
            "[-3.74263347e-04 -1.59657361e+01  2.99413641e+00 -9.97796542e-01\n",
            " -9.97443071e-01  2.99264772e+00 -1.99516494e+00  1.79614861e+01\n",
            " -9.98010746e-01  4.98901440e+00 -9.98394037e-01 -3.51270185e-04\n",
            " -3.46087972e-04 -9.97813592e-01 -1.99570261e+00 -2.99299647e+00\n",
            "  9.97810205e-01 -9.97040361e-01  3.73147672e-04  9.97351599e-01]\n",
            "f(x) = 13.585808110784308\n"
          ]
        }
      ]
    },
    {
      "cell_type": "markdown",
      "source": [
        "Notemos, cómo conforme aumentaba el valor de $n$, más empeoraba el resultado del método. Esto implica que mientras más variables ocupamos, más ajustes tenemos que hacer, probablemente en el número de individuos, $\\mu$ y de generaciones, $G$.\n",
        "\n",
        "Ahora continuemos con la última parte del problema: generar un reporte tras $M$ ejecuciones. Definamos una función que se encarge de eso."
      ],
      "metadata": {
        "id": "7guRF4goO26Y"
      },
      "id": "7guRF4goO26Y"
    },
    {
      "cell_type": "code",
      "source": [
        "def generateReport(mu,G,alpha,epsilon):\n",
        "  print(\"M = \", end = \"\")\n",
        "  M = int(input())\n",
        "  print(\"N = \" , end = \"\")\n",
        "  N = int(input())\n",
        "\n",
        "  results = []\n",
        "  for i in range(M):\n",
        "    results.append(PE(N,mu,G,alpha,epsilon))\n",
        "\n",
        "  results = sorted(results, key = lambda x:x[1])\n",
        "  print(f\"1. Best answer = \\n{results[0][0]}\\nf(x) = {results[0][1]}\\n\")\n",
        "  print(f\"2. Worst answer = \\n{results[M-1][0]}\\nf(x) = {results[M-1][1]}\\n\")\n",
        "  print(f\"3. Median answer = \\n{results[(M-1)//2][0]}\\nf(x) = {results[(M-1)//2][1]}\\n\")\n",
        "  res = np.array([r[1] for r in results])\n",
        "  print(f\"4. f(x) mean = {np.mean(res)}\")\n",
        "  print(f\"5. f(x) standard deviation = {np.std(res)}\")"
      ],
      "metadata": {
        "id": "dMMlAoBSND_d"
      },
      "id": "dMMlAoBSND_d",
      "execution_count": 86,
      "outputs": []
    },
    {
      "cell_type": "markdown",
      "source": [
        "Generemos 4 distintos reporte con $M = 50$ $\\mu = 100$, $G = 200$, $\\alpha = 2$, $\\epsilon_0 = 0.0001$. De momento elegir, valores más grandes para $\\mu$, $M$ o $G$ causaría tiempos de ejecución bastante largos. Por ello, solo nos enfocaremos en demostrar en que esto sirva para el número de variables de $n = 2,5,10,20$ con valores no tan altos.\n",
        "\n",
        "#### Reporte para $n = 2$"
      ],
      "metadata": {
        "id": "TYWQXCWgR9A4"
      },
      "id": "TYWQXCWgR9A4"
    },
    {
      "cell_type": "code",
      "source": [
        "generateReport(100,200,2,0.0001)"
      ],
      "metadata": {
        "colab": {
          "base_uri": "https://localhost:8080/"
        },
        "id": "Z_76afhvQcOs",
        "outputId": "5d5beb13-53f3-47bb-dc21-43bbcad69438"
      },
      "id": "Z_76afhvQcOs",
      "execution_count": 88,
      "outputs": [
        {
          "output_type": "stream",
          "name": "stdout",
          "text": [
            "M = 50\n",
            "N = 2\n",
            "1. Best answer = \n",
            "[-5.39239162e-07  2.37780179e-07]\n",
            "f(x) = 1.6669064533125777e-06\n",
            "\n",
            "2. Worst answer = \n",
            "[ 1.06442695e-06 -4.81891887e-06]\n",
            "f(x) = 1.3959153851050843e-05\n",
            "\n",
            "3. Median answer = \n",
            "[ 1.53906261e-06 -1.25736364e-06]\n",
            "f(x) = 5.621263085675565e-06\n",
            "\n",
            "4. f(x) mean = 6.054789098630664e-06\n",
            "5. f(x) standard deviation = 2.925603552878764e-06\n"
          ]
        }
      ]
    },
    {
      "cell_type": "markdown",
      "source": [
        "#### Reporte para $n = 5$\n",
        "\n"
      ],
      "metadata": {
        "id": "rWDfeb0Taahk"
      },
      "id": "rWDfeb0Taahk"
    },
    {
      "cell_type": "code",
      "source": [
        "generateReport(100,200,2,0.0001)"
      ],
      "metadata": {
        "colab": {
          "base_uri": "https://localhost:8080/"
        },
        "id": "QhBZOS0OV7QO",
        "outputId": "9ea1eea9-856c-48c5-ebef-30f9d7c5d1ad"
      },
      "id": "QhBZOS0OV7QO",
      "execution_count": 89,
      "outputs": [
        {
          "output_type": "stream",
          "name": "stdout",
          "text": [
            "M = 50\n",
            "N = 5\n",
            "1. Best answer = \n",
            "[-7.59894287e-05 -2.07514618e-05  5.86896248e-05  3.52005709e-05\n",
            " -1.23842388e-05]\n",
            "f(x) = 0.00018809155065158123\n",
            "\n",
            "2. Worst answer = \n",
            "[ 2.96726298e-04  3.90295364e-04  1.91884251e-04  6.73778007e-05\n",
            " -2.91301175e-04]\n",
            "f(x) = 0.0010870005252674453\n",
            "\n",
            "3. Median answer = \n",
            "[-1.26782521e-04 -2.28966066e-05 -4.93048398e-05 -8.50551849e-05\n",
            "  1.00688216e-04]\n",
            "f(x) = 0.0003416865660779145\n",
            "\n",
            "4. f(x) mean = 0.0004136229353313503\n",
            "5. f(x) standard deviation = 0.00019494107441061603\n"
          ]
        }
      ]
    },
    {
      "cell_type": "markdown",
      "source": [
        "#### Reporte para $n = 10$\n"
      ],
      "metadata": {
        "id": "o9If5O7zaejC"
      },
      "id": "o9If5O7zaejC"
    },
    {
      "cell_type": "code",
      "source": [
        "generateReport(100,200,2,0.0001)"
      ],
      "metadata": {
        "colab": {
          "base_uri": "https://localhost:8080/"
        },
        "id": "cCcbUyO1WIBN",
        "outputId": "e40c4c16-abdc-4b9f-f1ae-fbdcfa8a8d71"
      },
      "id": "cCcbUyO1WIBN",
      "execution_count": 90,
      "outputs": [
        {
          "output_type": "stream",
          "name": "stdout",
          "text": [
            "M = 50\n",
            "N = 10\n",
            "1. Best answer = \n",
            "[-0.02556044  0.12792732  0.00070081  0.02693412 -0.00134194 -0.02378064\n",
            " -0.01105714  0.02556138 -0.05685636  0.09629911]\n",
            "f(x) = 0.3819543113152162\n",
            "\n",
            "2. Worst answer = \n",
            "[ 6.39703379e-02 -1.57955406e-01 -6.74632481e-02 -1.26158293e-01\n",
            " -7.76339193e-01  2.19121538e-01  7.23919013e-04  9.67011144e-01\n",
            "  2.36808781e-01  9.46306958e-02]\n",
            "f(x) = 2.418707809849455\n",
            "\n",
            "3. Median answer = \n",
            "[-0.08911854 -0.01155726  0.13129284  0.01047047  0.08960055  0.13777702\n",
            "  0.09892789  0.08562779  0.0594949   0.97364293]\n",
            "f(x) = 1.5923998039801508\n",
            "\n",
            "4. f(x) mean = 1.5209187692979527\n",
            "5. f(x) standard deviation = 0.6026108445960925\n"
          ]
        }
      ]
    },
    {
      "cell_type": "markdown",
      "source": [
        "#### Reporte para $n = 20$\n"
      ],
      "metadata": {
        "id": "julZ9x-6afzJ"
      },
      "id": "julZ9x-6afzJ"
    },
    {
      "cell_type": "code",
      "source": [
        "generateReport(100,200,2,0.0001)"
      ],
      "metadata": {
        "colab": {
          "base_uri": "https://localhost:8080/"
        },
        "id": "NGeK1Oq2WK37",
        "outputId": "f735d3fb-852a-4ddc-9494-cbd533a8d93a"
      },
      "id": "NGeK1Oq2WK37",
      "execution_count": 91,
      "outputs": [
        {
          "output_type": "stream",
          "name": "stdout",
          "text": [
            "M = 50\n",
            "N = 20\n",
            "1. Best answer = \n",
            "[ 0.84433605 -0.64437657 -1.11765598 -0.75965053  3.20673174 -1.89646933\n",
            " -2.71933339  1.22711958  4.05084863 -2.43851518  0.077588   -2.21212055\n",
            " -4.70273781 -2.46375855 -0.70246948 -2.76634458 -2.03800757  2.58642224\n",
            " -2.1879462   1.10691218]\n",
            "f(x) = 8.957244727665747\n",
            "\n",
            "2. Worst answer = \n",
            "[ 5.15075243  1.32865662  2.31607232  1.86203111 -0.2891711   0.93857196\n",
            " -6.80515319  3.03501652 -0.27836424 -8.23604648 -4.54315731 -3.04454764\n",
            " -5.15387818  2.03534746 -2.26875677  3.49255122  1.87389294  1.67975985\n",
            "  1.97448697 24.15829623]\n",
            "f(x) = 15.966432669142238\n",
            "\n",
            "3. Median answer = \n",
            "[ 0.63952362  3.94688983 -5.23619035  0.05948577  6.98300563  3.2130264\n",
            " -0.59784137 -0.92462342 -3.38812682  0.07355187 -2.08827849 -5.17221943\n",
            " 10.10333434 -5.10298576 -0.67102741 -7.24721642 -0.21535152 -1.40621058\n",
            "  1.37094754  0.18446571]\n",
            "f(x) = 12.616908090999752\n",
            "\n",
            "4. f(x) mean = 12.756225441661636\n",
            "5. f(x) standard deviation = 1.6836262020401462\n"
          ]
        }
      ]
    },
    {
      "cell_type": "markdown",
      "source": [
        "Tras observar estos reportes, podemos observar claramente cómo conforme aumenta el número de variables a evaluar, peores resultados tenemos; además de que el tiempo de cómputo aumenta significativamente. Para mejorar los resultados ocupamos ajustar valores de los parámetros como en incrementos para $\\mu$ y $G$, lo cual implica mucho tiempo de ejecución del algoritmo.\n",
        "\n",
        "A pesar de todo ello, es más que evidente que este algoritmo con los parámetros adecuados es muy bueno escapando de mínimos locales. Esto se demuestra al circular por una función llena de varios puntos mínimos como la de Ackley, donde alcanzamos en varios de los casos al mínimo global."
      ],
      "metadata": {
        "id": "hHky0JFYVC7W"
      },
      "id": "hHky0JFYVC7W"
    }
  ],
  "metadata": {
    "kernelspec": {
      "display_name": "Python 3 (ipykernel)",
      "language": "python",
      "name": "python3"
    },
    "language_info": {
      "codemirror_mode": {
        "name": "ipython",
        "version": 3
      },
      "file_extension": ".py",
      "mimetype": "text/x-python",
      "name": "python",
      "nbconvert_exporter": "python",
      "pygments_lexer": "ipython3",
      "version": "3.8.8"
    },
    "colab": {
      "name": "PE.ipynb",
      "provenance": [],
      "collapsed_sections": []
    }
  },
  "nbformat": 4,
  "nbformat_minor": 5
}